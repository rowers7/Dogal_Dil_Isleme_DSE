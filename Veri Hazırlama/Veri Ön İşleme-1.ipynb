{
 "cells": [
  {
   "cell_type": "markdown",
   "id": "aging-above",
   "metadata": {},
   "source": [
    "# Gerekli Kurulumların Yapılması"
   ]
  },
  {
   "cell_type": "code",
   "execution_count": 78,
   "id": "upper-reason",
   "metadata": {},
   "outputs": [],
   "source": [
    "import pandas as pd\n",
    "import nltk"
   ]
  },
  {
   "cell_type": "markdown",
   "id": "nutritional-optimum",
   "metadata": {},
   "source": [
    "# Veri Setinin Oluşturulması"
   ]
  },
  {
   "cell_type": "code",
   "execution_count": 79,
   "id": "tribal-zimbabwe",
   "metadata": {},
   "outputs": [],
   "source": [
    "metin1 = \"Veri Bilimi*3,5, acaba ama hiç şüphesiz günümüzün en popüler araştırma ve uygulama alanlarının başında geliyor.\"\n",
    "metin2 = \"Doğal Dil İşleme, doğal dillerin kurallı yapısının çözümlenerek anlaşılması veya yeniden üretilmesi amacını taşır.\"\n",
    "metin3 = \"Yapay Zeka, bilgisayarın veya bilgisayar kontrolündeki bir robotun çeşitli faaliyetleri zeki canlılara benzer şekilde yerine getirme kabiliyetidir.\"\n",
    "metin4 = \"Derin Öğrenme bir makine öğrenme yöntemidir.\"\n",
    "metin5 = \"Bulanık Mantık kavramı ilk olarak Lotfi A. Zadeh tarafından 1965 tarihinde yayımlanan “The Theory of Fuzzy Logic and Fuzzy Sets” (Bulanık Mantık ve Bulanık Kümeler Kuramı) adlı makalede ortaya atıldı.\"\n",
    "metin6 = \"Pekiştirmeli öğrenme, davranışçılıktan esinlenen, öznelerin bir ortamda en yüksek ödül miktarına ulaşabilmesi için hangi eylemleri yapması gerektiğiyle ilgilenen bir makine öğrenmesi yaklaşımıdır.\""
   ]
  },
  {
   "cell_type": "code",
   "execution_count": 80,
   "id": "grand-greene",
   "metadata": {},
   "outputs": [],
   "source": [
    "#Dataframe oluşturmayı - sütun ismi vermeyi - veri tipini atamayı öğrendik\n",
    "veri = pd.DataFrame({\"ifade\":[metin1,metin2,metin3,metin4,metin5,metin6]}, dtype=\"string\")"
   ]
  },
  {
   "cell_type": "code",
   "execution_count": 81,
   "id": "accessible-theology",
   "metadata": {},
   "outputs": [
    {
     "data": {
      "text/html": [
       "<div>\n",
       "<style scoped>\n",
       "    .dataframe tbody tr th:only-of-type {\n",
       "        vertical-align: middle;\n",
       "    }\n",
       "\n",
       "    .dataframe tbody tr th {\n",
       "        vertical-align: top;\n",
       "    }\n",
       "\n",
       "    .dataframe thead th {\n",
       "        text-align: right;\n",
       "    }\n",
       "</style>\n",
       "<table border=\"1\" class=\"dataframe\">\n",
       "  <thead>\n",
       "    <tr style=\"text-align: right;\">\n",
       "      <th></th>\n",
       "      <th>ifade</th>\n",
       "    </tr>\n",
       "  </thead>\n",
       "  <tbody>\n",
       "    <tr>\n",
       "      <th>0</th>\n",
       "      <td>Veri Bilimi*3,5, acaba ama hiç şüphesiz günümü...</td>\n",
       "    </tr>\n",
       "    <tr>\n",
       "      <th>1</th>\n",
       "      <td>Doğal Dil İşleme, doğal dillerin kurallı yapıs...</td>\n",
       "    </tr>\n",
       "    <tr>\n",
       "      <th>2</th>\n",
       "      <td>Yapay Zeka, bilgisayarın veya bilgisayar kontr...</td>\n",
       "    </tr>\n",
       "    <tr>\n",
       "      <th>3</th>\n",
       "      <td>Derin Öğrenme bir makine öğrenme yöntemidir.</td>\n",
       "    </tr>\n",
       "    <tr>\n",
       "      <th>4</th>\n",
       "      <td>Bulanık Mantık kavramı ilk olarak Lotfi A. Zad...</td>\n",
       "    </tr>\n",
       "    <tr>\n",
       "      <th>5</th>\n",
       "      <td>Pekiştirmeli öğrenme, davranışçılıktan esinlen...</td>\n",
       "    </tr>\n",
       "  </tbody>\n",
       "</table>\n",
       "</div>"
      ],
      "text/plain": [
       "                                               ifade\n",
       "0  Veri Bilimi*3,5, acaba ama hiç şüphesiz günümü...\n",
       "1  Doğal Dil İşleme, doğal dillerin kurallı yapıs...\n",
       "2  Yapay Zeka, bilgisayarın veya bilgisayar kontr...\n",
       "3       Derin Öğrenme bir makine öğrenme yöntemidir.\n",
       "4  Bulanık Mantık kavramı ilk olarak Lotfi A. Zad...\n",
       "5  Pekiştirmeli öğrenme, davranışçılıktan esinlen..."
      ]
     },
     "execution_count": 81,
     "metadata": {},
     "output_type": "execute_result"
    }
   ],
   "source": [
    "veri"
   ]
  },
  {
   "cell_type": "markdown",
   "id": "artificial-manufacturer",
   "metadata": {},
   "source": [
    "# 1.Büyük - Küçük Harf Dönüşümü"
   ]
  },
  {
   "cell_type": "code",
   "execution_count": 82,
   "id": "direct-davis",
   "metadata": {},
   "outputs": [],
   "source": [
    "for i in range(len(veri.loc[:, 'ifade'])):\n",
    "    veri.loc[i, 'ifade'] = veri.loc[i, 'ifade'].lower()"
   ]
  },
  {
   "cell_type": "code",
   "execution_count": 83,
   "id": "assisted-printing",
   "metadata": {},
   "outputs": [
    {
     "data": {
      "text/html": [
       "<div>\n",
       "<style scoped>\n",
       "    .dataframe tbody tr th:only-of-type {\n",
       "        vertical-align: middle;\n",
       "    }\n",
       "\n",
       "    .dataframe tbody tr th {\n",
       "        vertical-align: top;\n",
       "    }\n",
       "\n",
       "    .dataframe thead th {\n",
       "        text-align: right;\n",
       "    }\n",
       "</style>\n",
       "<table border=\"1\" class=\"dataframe\">\n",
       "  <thead>\n",
       "    <tr style=\"text-align: right;\">\n",
       "      <th></th>\n",
       "      <th>ifade</th>\n",
       "    </tr>\n",
       "  </thead>\n",
       "  <tbody>\n",
       "    <tr>\n",
       "      <th>0</th>\n",
       "      <td>veri bilimi*3,5, acaba ama hiç şüphesiz günümü...</td>\n",
       "    </tr>\n",
       "    <tr>\n",
       "      <th>1</th>\n",
       "      <td>doğal dil i̇şleme, doğal dillerin kurallı yapı...</td>\n",
       "    </tr>\n",
       "    <tr>\n",
       "      <th>2</th>\n",
       "      <td>yapay zeka, bilgisayarın veya bilgisayar kontr...</td>\n",
       "    </tr>\n",
       "    <tr>\n",
       "      <th>3</th>\n",
       "      <td>derin öğrenme bir makine öğrenme yöntemidir.</td>\n",
       "    </tr>\n",
       "    <tr>\n",
       "      <th>4</th>\n",
       "      <td>bulanık mantık kavramı ilk olarak lotfi a. zad...</td>\n",
       "    </tr>\n",
       "    <tr>\n",
       "      <th>5</th>\n",
       "      <td>pekiştirmeli öğrenme, davranışçılıktan esinlen...</td>\n",
       "    </tr>\n",
       "  </tbody>\n",
       "</table>\n",
       "</div>"
      ],
      "text/plain": [
       "                                               ifade\n",
       "0  veri bilimi*3,5, acaba ama hiç şüphesiz günümü...\n",
       "1  doğal dil i̇şleme, doğal dillerin kurallı yapı...\n",
       "2  yapay zeka, bilgisayarın veya bilgisayar kontr...\n",
       "3       derin öğrenme bir makine öğrenme yöntemidir.\n",
       "4  bulanık mantık kavramı ilk olarak lotfi a. zad...\n",
       "5  pekiştirmeli öğrenme, davranışçılıktan esinlen..."
      ]
     },
     "execution_count": 83,
     "metadata": {},
     "output_type": "execute_result"
    }
   ],
   "source": [
    "veri"
   ]
  },
  {
   "cell_type": "markdown",
   "id": "french-candidate",
   "metadata": {},
   "source": [
    "### Farklı bir yöntem daha\n",
    "* Diğeri o kadar uzun sürdü ki bırakıp başka şeyler yapmaya başladım bu ise 1 sn'den az sürdü.\n",
    "* Burada ekstra olarak tekrar dataframe e çevirmemiz gerekiyor"
   ]
  },
  {
   "cell_type": "code",
   "execution_count": 84,
   "id": "animal-combine",
   "metadata": {},
   "outputs": [],
   "source": [
    "düzelmiş_veri = veri[\"ifade\"].apply(lambda x: \" \".join(x.lower() for x in x.split()))"
   ]
  },
  {
   "cell_type": "code",
   "execution_count": 85,
   "id": "perceived-crossing",
   "metadata": {},
   "outputs": [
    {
     "data": {
      "text/plain": [
       "0    veri bilimi*3,5, acaba ama hiç şüphesiz günümü...\n",
       "1    doğal dil i̇şleme, doğal dillerin kurallı yapı...\n",
       "2    yapay zeka, bilgisayarın veya bilgisayar kontr...\n",
       "3         derin öğrenme bir makine öğrenme yöntemidir.\n",
       "4    bulanık mantık kavramı ilk olarak lotfi a. zad...\n",
       "5    pekiştirmeli öğrenme, davranışçılıktan esinlen...\n",
       "Name: ifade, dtype: object"
      ]
     },
     "execution_count": 85,
     "metadata": {},
     "output_type": "execute_result"
    }
   ],
   "source": [
    "düzelmiş_veri"
   ]
  },
  {
   "cell_type": "markdown",
   "id": "genetic-champagne",
   "metadata": {},
   "source": [
    "# 2.Özel Karakterlerin/Noktalama İşaretlerinin Silinmesi"
   ]
  },
  {
   "cell_type": "code",
   "execution_count": 86,
   "id": "literary-bridge",
   "metadata": {},
   "outputs": [],
   "source": [
    "düzelmiş_veri2 = düzelmiş_veri.str.replace(\"[^\\w\\s]\",\"\")\n",
    "# ek kaynaklar\n",
    "# https://www.w3schools.com/python/python_regex.asp"
   ]
  },
  {
   "cell_type": "code",
   "execution_count": 87,
   "id": "fixed-quarter",
   "metadata": {},
   "outputs": [],
   "source": [
    "düzelmiş_veri2 = düzelmiş_veri.str.replace(\"[^\\w\\s]\",\"\")"
   ]
  },
  {
   "cell_type": "code",
   "execution_count": 88,
   "id": "found-destiny",
   "metadata": {},
   "outputs": [
    {
     "data": {
      "text/plain": [
       "0    veri bilimi35 acaba ama hiç şüphesiz günümüzün...\n",
       "1    doğal dil işleme doğal dillerin kurallı yapısı...\n",
       "2    yapay zeka bilgisayarın veya bilgisayar kontro...\n",
       "3          derin öğrenme bir makine öğrenme yöntemidir\n",
       "4    bulanık mantık kavramı ilk olarak lotfi a zade...\n",
       "5    pekiştirmeli öğrenme davranışçılıktan esinlene...\n",
       "Name: ifade, dtype: object"
      ]
     },
     "execution_count": 88,
     "metadata": {},
     "output_type": "execute_result"
    }
   ],
   "source": [
    "düzelmiş_veri2"
   ]
  },
  {
   "cell_type": "markdown",
   "id": "pleased-momentum",
   "metadata": {},
   "source": [
    "# 3.Sayıların Silinmesi"
   ]
  },
  {
   "cell_type": "code",
   "execution_count": 89,
   "id": "adjusted-motivation",
   "metadata": {},
   "outputs": [],
   "source": [
    "düzelmiş_veri3 = düzelmiş_veri2.str.replace(\"\\d\",\"\")"
   ]
  },
  {
   "cell_type": "code",
   "execution_count": 90,
   "id": "noticed-movement",
   "metadata": {},
   "outputs": [
    {
     "data": {
      "text/plain": [
       "0    veri bilimi acaba ama hiç şüphesiz günümüzün e...\n",
       "1    doğal dil işleme doğal dillerin kurallı yapısı...\n",
       "2    yapay zeka bilgisayarın veya bilgisayar kontro...\n",
       "3          derin öğrenme bir makine öğrenme yöntemidir\n",
       "4    bulanık mantık kavramı ilk olarak lotfi a zade...\n",
       "5    pekiştirmeli öğrenme davranışçılıktan esinlene...\n",
       "Name: ifade, dtype: object"
      ]
     },
     "execution_count": 90,
     "metadata": {},
     "output_type": "execute_result"
    }
   ],
   "source": [
    "düzelmiş_veri3"
   ]
  },
  {
   "cell_type": "markdown",
   "id": "smooth-consumer",
   "metadata": {},
   "source": [
    "# 4.Duraklama Kelimelerinin Silinmesi"
   ]
  },
  {
   "cell_type": "markdown",
   "id": "negative-above",
   "metadata": {},
   "source": [
    "## NLTK"
   ]
  },
  {
   "cell_type": "code",
   "execution_count": 91,
   "id": "located-meaning",
   "metadata": {},
   "outputs": [
    {
     "name": "stderr",
     "output_type": "stream",
     "text": [
      "[nltk_data] Downloading package stopwords to\n",
      "[nltk_data]     C:\\Users\\saban\\AppData\\Roaming\\nltk_data...\n",
      "[nltk_data]   Package stopwords is already up-to-date!\n"
     ]
    }
   ],
   "source": [
    "nltk.download(\"stopwords\")\n",
    "from nltk.corpus import stopwords"
   ]
  },
  {
   "cell_type": "code",
   "execution_count": 92,
   "id": "transsexual-recall",
   "metadata": {},
   "outputs": [],
   "source": [
    "duraklama_kelimeleri = stopwords.words(\"turkish\")"
   ]
  },
  {
   "cell_type": "code",
   "execution_count": 93,
   "id": "mobile-italy",
   "metadata": {},
   "outputs": [],
   "source": [
    "düzelmiş_veri4 = pd.DataFrame(düzelmiş_veri3, columns = [\"ifade\"])"
   ]
  },
  {
   "cell_type": "code",
   "execution_count": 94,
   "id": "sitting-intensity",
   "metadata": {},
   "outputs": [],
   "source": [
    "düzelmiş_veri5 = düzelmiş_veri4[\"ifade\"].apply(lambda x: \" \".join(x for x in x.split() if x not in duraklama_kelimeleri))"
   ]
  },
  {
   "cell_type": "code",
   "execution_count": 95,
   "id": "comfortable-adapter",
   "metadata": {},
   "outputs": [
    {
     "data": {
      "text/plain": [
       "0    veri bilimi şüphesiz günümüzün popüler araştır...\n",
       "1    doğal dil işleme doğal dillerin kurallı yapısı...\n",
       "2    yapay zeka bilgisayarın bilgisayar kontrolünde...\n",
       "3          derin öğrenme bir makine öğrenme yöntemidir\n",
       "4    bulanık mantık kavramı ilk olarak lotfi a zade...\n",
       "5    pekiştirmeli öğrenme davranışçılıktan esinlene...\n",
       "Name: ifade, dtype: object"
      ]
     },
     "execution_count": 95,
     "metadata": {},
     "output_type": "execute_result"
    }
   ],
   "source": [
    "düzelmiş_veri5"
   ]
  },
  {
   "cell_type": "markdown",
   "id": "enhanced-first",
   "metadata": {},
   "source": [
    "## Advertools"
   ]
  },
  {
   "cell_type": "code",
   "execution_count": 96,
   "id": "imperial-spare",
   "metadata": {},
   "outputs": [],
   "source": [
    "#!pip install advertools"
   ]
  },
  {
   "cell_type": "code",
   "execution_count": 97,
   "id": "retired-inspiration",
   "metadata": {},
   "outputs": [],
   "source": [
    "import advertools as adv"
   ]
  },
  {
   "cell_type": "code",
   "execution_count": 98,
   "id": "confused-offset",
   "metadata": {},
   "outputs": [],
   "source": [
    "diger_duraklama_kelimeleri = sorted(adv.stopwords['turkish'])[:]"
   ]
  },
  {
   "cell_type": "code",
   "execution_count": 99,
   "id": "front-clock",
   "metadata": {},
   "outputs": [],
   "source": [
    "düzelmiş_veri5_1 = düzelmiş_veri4[\"ifade\"].apply(lambda x: \" \".join(x for x in x.split() if x not in diger_duraklama_kelimeleri))"
   ]
  },
  {
   "cell_type": "code",
   "execution_count": 100,
   "id": "infectious-edition",
   "metadata": {},
   "outputs": [
    {
     "data": {
      "text/plain": [
       "0    veri bilimi şüphesiz günümüzün popüler araştır...\n",
       "1    doğal dil işleme doğal dillerin kurallı yapısı...\n",
       "2    yapay zeka bilgisayarın bilgisayar kontrolünde...\n",
       "3          derin öğrenme bir makine öğrenme yöntemidir\n",
       "4    bulanık mantık kavramı lotfi a zadeh tarihinde...\n",
       "5    pekiştirmeli öğrenme davranışçılıktan esinlene...\n",
       "Name: ifade, dtype: object"
      ]
     },
     "execution_count": 100,
     "metadata": {},
     "output_type": "execute_result"
    }
   ],
   "source": [
    "düzelmiş_veri5_1"
   ]
  },
  {
   "cell_type": "markdown",
   "id": "sexual-damages",
   "metadata": {},
   "source": [
    "# 5. Az Geçen Kelimelerin veya Çok Etkileyen İfadelerin Çıkarılması"
   ]
  },
  {
   "cell_type": "code",
   "execution_count": 101,
   "id": "radical-intro",
   "metadata": {},
   "outputs": [],
   "source": [
    "düzelmiş_veri5 = pd.DataFrame(düzelmiş_veri5, columns = [\"ifade\"])"
   ]
  },
  {
   "cell_type": "code",
   "execution_count": 102,
   "id": "growing-romantic",
   "metadata": {},
   "outputs": [
    {
     "data": {
      "text/plain": [
       "bir         4\n",
       "öğrenme     3\n",
       "bulanık     3\n",
       "doğal       2\n",
       "makine      2\n",
       "           ..\n",
       "olarak      1\n",
       "makalede    1\n",
       "atıldı      1\n",
       "kurallı     1\n",
       "a           1\n",
       "Length: 82, dtype: int64"
      ]
     },
     "execution_count": 102,
     "metadata": {},
     "output_type": "execute_result"
    }
   ],
   "source": [
    "pd.Series(\" \".join(düzelmiş_veri5[\"ifade\"]).split()).value_counts()"
   ]
  },
  {
   "cell_type": "code",
   "execution_count": 103,
   "id": "amateur-blame",
   "metadata": {},
   "outputs": [],
   "source": [
    "# Veri kümesi çok büyük olduğunda haliyle devasa miktar kelime havuzu oluşacak. Bunu azaltmak için kullanılabilir.\n",
    "az_gecenler = pd.Series(\" \".join(düzelmiş_veri5[\"ifade\"]).split()).value_counts()[-3:]"
   ]
  },
  {
   "cell_type": "code",
   "execution_count": 104,
   "id": "indoor-anthony",
   "metadata": {},
   "outputs": [
    {
     "data": {
      "text/plain": [
       "atıldı     1\n",
       "kurallı    1\n",
       "a          1\n",
       "dtype: int64"
      ]
     },
     "execution_count": 104,
     "metadata": {},
     "output_type": "execute_result"
    }
   ],
   "source": [
    "az_gecenler"
   ]
  },
  {
   "cell_type": "code",
   "execution_count": 105,
   "id": "lyric-defeat",
   "metadata": {},
   "outputs": [],
   "source": [
    "düzelmiş_veri6 = düzelmiş_veri5[\"ifade\"].apply(lambda x: \" \".join(i for i in x.split() if i not in az_gecenler))"
   ]
  },
  {
   "cell_type": "code",
   "execution_count": 106,
   "id": "acknowledged-bobby",
   "metadata": {},
   "outputs": [],
   "source": [
    "# Bazen bazı ifadeler olumlu ifadelerde o kadar çok bulunur ki mesela :) emojisi, etkisi bazı yöntemlerde çok olur.\n",
    "#Bundan kaynaklı, olumsuzlarda bile geçse onları olumlu gösterir. Bundan kurtulmak için kullanılabilir.\n",
    "cok_gecenler = pd.Series(\" \".join(düzelmiş_veri5[\"ifade\"]).split()).value_counts()[0:3]"
   ]
  },
  {
   "cell_type": "code",
   "execution_count": 107,
   "id": "sunset-initial",
   "metadata": {},
   "outputs": [
    {
     "data": {
      "text/plain": [
       "bir        4\n",
       "öğrenme    3\n",
       "bulanık    3\n",
       "dtype: int64"
      ]
     },
     "execution_count": 107,
     "metadata": {},
     "output_type": "execute_result"
    }
   ],
   "source": [
    "cok_gecenler"
   ]
  },
  {
   "cell_type": "code",
   "execution_count": 108,
   "id": "biological-gamma",
   "metadata": {},
   "outputs": [],
   "source": [
    "düzelmiş_veri7 = düzelmiş_veri5[\"ifade\"].apply(lambda x: \" \".join(i for i in x.split() if i not in cok_gecenler))"
   ]
  },
  {
   "cell_type": "code",
   "execution_count": 109,
   "id": "likely-complaint",
   "metadata": {},
   "outputs": [
    {
     "data": {
      "text/plain": [
       "0    veri bilimi şüphesiz günümüzün popüler araştır...\n",
       "1    doğal dil işleme doğal dillerin kurallı yapısı...\n",
       "2    yapay zeka bilgisayarın bilgisayar kontrolünde...\n",
       "3                              derin makine yöntemidir\n",
       "4    mantık kavramı ilk olarak lotfi a zadeh tarafı...\n",
       "5    pekiştirmeli davranışçılıktan esinlenen öznele...\n",
       "Name: ifade, dtype: object"
      ]
     },
     "execution_count": 109,
     "metadata": {},
     "output_type": "execute_result"
    }
   ],
   "source": [
    "düzelmiş_veri7"
   ]
  },
  {
   "cell_type": "markdown",
   "id": "talented-scheduling",
   "metadata": {},
   "source": [
    "# 6. İstenmeyen Kelimelerin Silinmesi"
   ]
  },
  {
   "cell_type": "code",
   "execution_count": 110,
   "id": "disabled-auction",
   "metadata": {},
   "outputs": [],
   "source": [
    "istenmeyen_kelimeler = [\"veri\", \"bilimi\"]"
   ]
  },
  {
   "cell_type": "code",
   "execution_count": 111,
   "id": "incident-slovakia",
   "metadata": {},
   "outputs": [],
   "source": [
    "düzelmiş_veri8 = pd.DataFrame(düzelmiş_veri7, columns = [\"ifade\"])"
   ]
  },
  {
   "cell_type": "code",
   "execution_count": 112,
   "id": "infectious-norway",
   "metadata": {},
   "outputs": [],
   "source": [
    "düzelmiş_veri8 = düzelmiş_veri8[\"ifade\"].apply(lambda x: \" \".join(x for x in x.split() if x not in istenmeyen_kelimeler))"
   ]
  },
  {
   "cell_type": "code",
   "execution_count": 113,
   "id": "hearing-soldier",
   "metadata": {},
   "outputs": [
    {
     "data": {
      "text/plain": [
       "0    şüphesiz günümüzün popüler araştırma uygulama ...\n",
       "1    doğal dil işleme doğal dillerin kurallı yapısı...\n",
       "2    yapay zeka bilgisayarın bilgisayar kontrolünde...\n",
       "3                              derin makine yöntemidir\n",
       "4    mantık kavramı ilk olarak lotfi a zadeh tarafı...\n",
       "5    pekiştirmeli davranışçılıktan esinlenen öznele...\n",
       "Name: ifade, dtype: object"
      ]
     },
     "execution_count": 113,
     "metadata": {},
     "output_type": "execute_result"
    }
   ],
   "source": [
    "düzelmiş_veri8"
   ]
  }
 ],
 "metadata": {
  "kernelspec": {
   "display_name": "Python 3",
   "language": "python",
   "name": "python3"
  },
  "language_info": {
   "codemirror_mode": {
    "name": "ipython",
    "version": 3
   },
   "file_extension": ".py",
   "mimetype": "text/x-python",
   "name": "python",
   "nbconvert_exporter": "python",
   "pygments_lexer": "ipython3",
   "version": "3.9.1"
  }
 },
 "nbformat": 4,
 "nbformat_minor": 5
}

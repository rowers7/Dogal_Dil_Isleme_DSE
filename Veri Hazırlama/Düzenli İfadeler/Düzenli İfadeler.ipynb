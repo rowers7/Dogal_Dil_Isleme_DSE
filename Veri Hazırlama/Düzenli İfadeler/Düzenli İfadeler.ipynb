{
 "cells": [
  {
   "cell_type": "code",
   "execution_count": 1,
   "metadata": {},
   "outputs": [],
   "source": [
    "import re"
   ]
  },
  {
   "cell_type": "code",
   "execution_count": 127,
   "metadata": {},
   "outputs": [],
   "source": [
    "# neler yapılabilir görmek için\n",
    "#dir(a) => nesne/değişken verilir"
   ]
  },
  {
   "cell_type": "markdown",
   "metadata": {},
   "source": [
    "# Temel Bazı İşlemler\n",
    "* Bir düzenli(istenen) ifadenin metin içerisinde nasıl aranacağıyla ilgilenir"
   ]
  },
  {
   "cell_type": "markdown",
   "metadata": {},
   "source": [
    "## A| match() \n",
    "* Metinin başında var mı yok mu? => kullanmak mantıklı değil"
   ]
  },
  {
   "cell_type": "code",
   "execution_count": 128,
   "metadata": {},
   "outputs": [],
   "source": [
    "a = \"Doğal Dil İşleme Yapay Zeka'nın alt dallarından biridir. Doğal Diller...\""
   ]
  },
  {
   "cell_type": "code",
   "execution_count": 130,
   "metadata": {},
   "outputs": [
    {
     "name": "stdout",
     "output_type": "stream",
     "text": [
      "<re.Match object; span=(0, 9), match='Doğal Dil'>\n"
     ]
    }
   ],
   "source": [
    "print(re.match(\"Doğal Dil\", a))"
   ]
  },
  {
   "cell_type": "markdown",
   "metadata": {},
   "source": [
    "###  1. span()\n",
    "* Konumu daha güzel şekilde veriyor"
   ]
  },
  {
   "cell_type": "code",
   "execution_count": 131,
   "metadata": {},
   "outputs": [],
   "source": [
    "eşleşme = re.match('Doğal Dil', a)"
   ]
  },
  {
   "cell_type": "code",
   "execution_count": 132,
   "metadata": {},
   "outputs": [
    {
     "name": "stdout",
     "output_type": "stream",
     "text": [
      "(0, 9)\n"
     ]
    }
   ],
   "source": [
    "print(eşleşme.span())"
   ]
  },
  {
   "cell_type": "markdown",
   "metadata": {},
   "source": [
    "### 2. group()\n",
    "* Yazdırıyor\n",
    "* Bu metot, doğrudan doğruya düzenli ifadelerin değil, eşleşme nesnelerinin bir metodudur."
   ]
  },
  {
   "cell_type": "code",
   "execution_count": 226,
   "metadata": {},
   "outputs": [
    {
     "data": {
      "text/plain": [
       "'python'"
      ]
     },
     "execution_count": 226,
     "metadata": {},
     "output_type": "execute_result"
    }
   ],
   "source": [
    "kardiz = \"python, r ve julia yüksek seviyeli dillerdir.\"\n",
    "eşleşme = re.match(\"python\", kardiz)\n",
    "eşleşme.group()"
   ]
  },
  {
   "cell_type": "code",
   "execution_count": 138,
   "metadata": {},
   "outputs": [
    {
     "data": {
      "text/plain": [
       "re.Match"
      ]
     },
     "execution_count": 138,
     "metadata": {},
     "output_type": "execute_result"
    }
   ],
   "source": [
    "type(eşleşme)"
   ]
  },
  {
   "cell_type": "code",
   "execution_count": 139,
   "metadata": {},
   "outputs": [],
   "source": [
    "#dir(eşleşme)"
   ]
  },
  {
   "cell_type": "markdown",
   "metadata": {},
   "source": [
    "## B| search() \n",
    "* bir değişkene atadıktan sonra group ile doğrulamak => eşleşme nesnelerinin özelliği\n",
    "* direk aramak ise düzenli ifadelerin özelliği"
   ]
  },
  {
   "cell_type": "code",
   "execution_count": 13,
   "metadata": {},
   "outputs": [
    {
     "name": "stdout",
     "output_type": "stream",
     "text": [
      "(7, 12)\n",
      "güçlü\n"
     ]
    }
   ],
   "source": [
    "a = \"Python güçlü bir dildir\"\n",
    "nesne = re.search(\"güçlü\", a)\n",
    "\n",
    "# ifade'nin metindeki yerini öğreniyoruz\n",
    "print(nesne.span())\n",
    "\n",
    "# ifade metinde var iste ekrana yazdırılıyor\n",
    "print(nesne.group())"
   ]
  },
  {
   "cell_type": "code",
   "execution_count": 140,
   "metadata": {},
   "outputs": [],
   "source": [
    "liste = [\"kedi\", \"köpek\", \"fare\"]\n",
    "# düzenli ifadeler metinler üzerinde işlediği için for dönügüsü kullanmamız gerekecek"
   ]
  },
  {
   "cell_type": "code",
   "execution_count": 141,
   "metadata": {},
   "outputs": [
    {
     "name": "stdout",
     "output_type": "stream",
     "text": [
      "köpek\n"
     ]
    }
   ],
   "source": [
    "for eleman in liste:\n",
    "    if re.search(\"köpek\", eleman):\n",
    "        print(eleman)"
   ]
  },
  {
   "cell_type": "code",
   "execution_count": 142,
   "metadata": {},
   "outputs": [
    {
     "name": "stdout",
     "output_type": "stream",
     "text": [
      "kedi\n"
     ]
    }
   ],
   "source": [
    "for eleman in liste:\n",
    "    if re.search(\"kedi\", eleman):\n",
    "        print(eleman)"
   ]
  },
  {
   "cell_type": "markdown",
   "metadata": {},
   "source": [
    "## C| findall()\n",
    "* findall() => arama sonucunda bulunan tüm değerleri getirir\n",
    "* Örnek senaryo: İstenilen ifadenin metinde kaç kere geçtiğini bulmak için kullanabiliriz"
   ]
  },
  {
   "cell_type": "code",
   "execution_count": 144,
   "metadata": {},
   "outputs": [],
   "source": [
    "metin = \"Bir berber bir berbere Bre berber gel beraber Bir berber dükkanı açalım demiş\""
   ]
  },
  {
   "cell_type": "code",
   "execution_count": 145,
   "metadata": {},
   "outputs": [
    {
     "name": "stdout",
     "output_type": "stream",
     "text": [
      "4\n"
     ]
    }
   ],
   "source": [
    "print(len(re.findall(\"berber\",metin)))"
   ]
  },
  {
   "cell_type": "markdown",
   "metadata": {},
   "source": [
    "### start() ve end()\n",
    "* İstenen ifadeler, metinde en son nerede kullanıldılarsa onların başlangıç ve bitiş indekslerini verirler."
   ]
  },
  {
   "cell_type": "code",
   "execution_count": 147,
   "metadata": {},
   "outputs": [
    {
     "name": "stdout",
     "output_type": "stream",
     "text": [
      "12\n",
      "19\n"
     ]
    }
   ],
   "source": [
    "kontrol = re.search(\"AlphaGo\",\"Merhaba ben AlphaGo, senin adın nedir?\")\n",
    "print(kontrol.start())\n",
    "print(kontrol.end())"
   ]
  },
  {
   "cell_type": "markdown",
   "metadata": {},
   "source": [
    "### endpos()\n",
    "* İfade içerisindeki toplam karakter sayısını verir."
   ]
  },
  {
   "cell_type": "code",
   "execution_count": 45,
   "metadata": {},
   "outputs": [
    {
     "data": {
      "text/plain": [
       "58"
      ]
     },
     "execution_count": 45,
     "metadata": {},
     "output_type": "execute_result"
    }
   ],
   "source": [
    "ifade = re.search(\"Doğal Dil İşleme\",\"Doğal Dil İşleme alanında hayret verici başarılara sahipti\")\n",
    "ifade.endpos"
   ]
  },
  {
   "cell_type": "markdown",
   "metadata": {},
   "source": [
    "# Meta Karakterler 1 => 11 adet\n",
    "* Bir düzenli(belirli özelliklere sahip) ifadenin metin içerisinde nasıl aranacağıyla ilgilenir\n",
    "* => [] . * + ? {} ^ $ \\ | ()"
   ]
  },
  {
   "cell_type": "markdown",
   "metadata": {},
   "source": [
    "### 1| Köşeli parantez ([ ]) meta karakteri\n",
    "* Girilen karakterler veya olarak algılanır, yalnız bir tanesi bulunmalıdır."
   ]
  },
  {
   "cell_type": "code",
   "execution_count": 4,
   "metadata": {},
   "outputs": [],
   "source": [
    "liste = [\"sezin\", \"selin\",\"sekin\",\"sein\",\"sezlin\",\"selzin\"]"
   ]
  },
  {
   "cell_type": "code",
   "execution_count": 5,
   "metadata": {},
   "outputs": [
    {
     "name": "stdout",
     "output_type": "stream",
     "text": [
      "sezin\n",
      "selin\n"
     ]
    }
   ],
   "source": [
    "for eleman in liste:\n",
    "    if re.search(\"se[lz]in\",eleman):\n",
    "        print(eleman)"
   ]
  },
  {
   "cell_type": "markdown",
   "metadata": {},
   "source": [
    "### 2| Nokta (.) meta karakteri\n",
    "* . karakteri hayalgücüne kalmıştır.Her boyutta yerine bir harf, kelime getirilebilir. Sınırı kelime uzunluğudur."
   ]
  },
  {
   "cell_type": "code",
   "execution_count": 9,
   "metadata": {},
   "outputs": [
    {
     "name": "stdout",
     "output_type": "stream",
     "text": [
      "metin\n",
      "selin\n",
      "keskin\n"
     ]
    }
   ],
   "source": [
    "liste = [\"metin\", \"selin\",\"selim\",\"keskin\"]\n",
    "\n",
    "for eleman in liste:\n",
    "    if re.search(\".in\",eleman):\n",
    "        print(eleman)"
   ]
  },
  {
   "cell_type": "markdown",
   "metadata": {},
   "source": [
    "### 3| Yıldız (*) meta karakteri\n",
    "* Kendinden önce karakter olsa da olur olmasada. => 0 veya daha fazla olmasına bakar.\n"
   ]
  },
  {
   "cell_type": "code",
   "execution_count": 17,
   "metadata": {},
   "outputs": [
    {
     "name": "stdout",
     "output_type": "stream",
     "text": [
      "sakin\n",
      "selin\n",
      "seeezgin\n"
     ]
    }
   ],
   "source": [
    "liste = [\"metin\",\"sakin\", \"selin\",\"seeezgin\",\"engin\"]\n",
    "\n",
    "for eleman in liste:\n",
    "    if re.search(\"se*\",eleman):\n",
    "        print(eleman)"
   ]
  },
  {
   "cell_type": "markdown",
   "metadata": {},
   "source": [
    "### 4| Artı (+) meta karakteri\n",
    "* Kendinden önce karakterin metinde olması gerekir. => 1 veya daha fazla olmasına bakar.\n"
   ]
  },
  {
   "cell_type": "code",
   "execution_count": 19,
   "metadata": {},
   "outputs": [
    {
     "name": "stdout",
     "output_type": "stream",
     "text": [
      "selin\n",
      "seeezgin\n"
     ]
    }
   ],
   "source": [
    "liste = [\"metin\",\"sakin\", \"selin\",\"seeezgin\",\"engin\"]\n",
    "\n",
    "for eleman in liste:\n",
    "    if re.search(\"se+\",eleman):\n",
    "        print(eleman)"
   ]
  },
  {
   "cell_type": "code",
   "execution_count": 20,
   "metadata": {},
   "outputs": [
    {
     "name": "stdout",
     "output_type": "stream",
     "text": [
      "metin\n",
      "sakin\n",
      "selin\n",
      "seeezgin\n",
      "engin\n"
     ]
    }
   ],
   "source": [
    "# yalnız \"in\" olan ifade ekrana basılmadı. Çünkü + meta karakteri en az 1 karakteri ön koşul sunar.\n",
    "for eleman in liste:\n",
    "    if re.search(\".+in\",eleman):\n",
    "        print(eleman)"
   ]
  },
  {
   "cell_type": "markdown",
   "metadata": {},
   "source": [
    "### 5| Soru İşareti (?) meta karakteri\n",
    "* Önceki karakterin 0 ya da 1 kez olmasını araştırır."
   ]
  },
  {
   "cell_type": "code",
   "execution_count": 25,
   "metadata": {},
   "outputs": [
    {
     "data": {
      "text/plain": [
       "['@mail', '@gmail']"
      ]
     },
     "execution_count": 25,
     "metadata": {},
     "output_type": "execute_result"
    }
   ],
   "source": [
    "re.findall(\"@g?mail\",\"E-posta adresimiz test@mail.com, test@gmail.com ve test@gggggmail.com\")"
   ]
  },
  {
   "cell_type": "markdown",
   "metadata": {},
   "source": [
    "### 6| Süslü Parantez ({ }) meta karakteri\n",
    "* Önceki karakterin, en az kaç kere geçmesini istiyoruz..."
   ]
  },
  {
   "cell_type": "code",
   "execution_count": 16,
   "metadata": {},
   "outputs": [],
   "source": [
    "liste = [\"sezin\", \"seezin\", \"seeezin\"]"
   ]
  },
  {
   "cell_type": "code",
   "execution_count": 17,
   "metadata": {},
   "outputs": [
    {
     "name": "stdout",
     "output_type": "stream",
     "text": [
      "seeezin\n"
     ]
    }
   ],
   "source": [
    "for eleman in liste:\n",
    "    if re.search(\"se{3}\",eleman):\n",
    "        print(eleman)"
   ]
  },
  {
   "cell_type": "markdown",
   "metadata": {},
   "source": [
    "### 7| Şapka (^) meta karakteri\n",
    "* İfademizin hangi karakterler ile başlamasını istiyoruz?"
   ]
  },
  {
   "cell_type": "code",
   "execution_count": 62,
   "metadata": {},
   "outputs": [],
   "source": [
    "liste = [\"sezin\", \"metin\", \"ali\",\"at\"]"
   ]
  },
  {
   "cell_type": "code",
   "execution_count": 63,
   "metadata": {},
   "outputs": [
    {
     "name": "stdout",
     "output_type": "stream",
     "text": [
      "ali\n"
     ]
    }
   ],
   "source": [
    "for eleman in liste:\n",
    "    if re.search(\"^al\",eleman):\n",
    "        print(eleman)"
   ]
  },
  {
   "cell_type": "markdown",
   "metadata": {},
   "source": [
    "### 8| Dolar ($) meta karakteri\n",
    "* İfademizin hangi karakterler ile bitmesini istiyoruz?"
   ]
  },
  {
   "cell_type": "code",
   "execution_count": 20,
   "metadata": {},
   "outputs": [],
   "source": [
    "liste = [\"sezin\", \"metin\", \"ali\"]"
   ]
  },
  {
   "cell_type": "code",
   "execution_count": 65,
   "metadata": {},
   "outputs": [
    {
     "name": "stdout",
     "output_type": "stream",
     "text": [
      "sezin\n",
      "metin\n"
     ]
    }
   ],
   "source": [
    "for eleman in liste:\n",
    "    if re.search(\"n$\",eleman):\n",
    "        print(eleman)"
   ]
  },
  {
   "cell_type": "markdown",
   "metadata": {},
   "source": [
    "### 9| Ters Slash (\\\\) meta karakteri\n",
    "* Kaçış karakteridir => meta karakterler gibi özel ifadelerin de kodlarımızda kullanılmasını istiyorsak kullanılır."
   ]
  },
  {
   "cell_type": "code",
   "execution_count": 50,
   "metadata": {},
   "outputs": [],
   "source": [
    "metin = \"Arabanın değeri: 55.000$ \""
   ]
  },
  {
   "cell_type": "code",
   "execution_count": 51,
   "metadata": {},
   "outputs": [
    {
     "name": "stdout",
     "output_type": "stream",
     "text": [
      "['55.000$']\n"
     ]
    }
   ],
   "source": [
    "print(re.findall(\"[0-9]*\\.[0-9]+\\$\",metin))"
   ]
  },
  {
   "cell_type": "markdown",
   "metadata": {},
   "source": [
    "### 10| Düz Çizgi (|) meta karakteri\n",
    "* Birden fazla düzenli ifadeyi, ihtimal olarak kullanmak istersek..."
   ]
  },
  {
   "cell_type": "code",
   "execution_count": 66,
   "metadata": {},
   "outputs": [],
   "source": [
    "liste = [\"sezin\", \"selam\", \"metin\",\"sakız\"]"
   ]
  },
  {
   "cell_type": "code",
   "execution_count": 67,
   "metadata": {},
   "outputs": [
    {
     "name": "stdout",
     "output_type": "stream",
     "text": [
      "sezin\n",
      "selam\n",
      "metin\n"
     ]
    }
   ],
   "source": [
    "for eleman in liste:\n",
    "    if re.search(\"^se|in$\",eleman):\n",
    "        print(eleman)"
   ]
  },
  {
   "cell_type": "markdown",
   "metadata": {},
   "source": [
    "### 11| Parantez (( )) meta karakteri\n",
    "* Düzenli ifadeleri gruplamak için kullanılır."
   ]
  },
  {
   "cell_type": "code",
   "execution_count": 70,
   "metadata": {},
   "outputs": [],
   "source": [
    "yeni_liste = [\"abef\",\"abcdef\",\"abdcdef\"]"
   ]
  },
  {
   "cell_type": "code",
   "execution_count": 71,
   "metadata": {},
   "outputs": [
    {
     "name": "stdout",
     "output_type": "stream",
     "text": [
      "abef\n",
      "abcdef\n"
     ]
    }
   ],
   "source": [
    "# cd birlikte sorgulanmıştır. cd olan veya olmayan diye sorgulama yapıldı yani\n",
    "for eleman in yeni_liste:\n",
    "    if re.search(\"ab(cd)*ef\",eleman):\n",
    "        print(eleman)"
   ]
  },
  {
   "cell_type": "markdown",
   "metadata": {},
   "source": [
    "# Özel Diziler (Meta Karakterler 2)"
   ]
  },
  {
   "cell_type": "markdown",
   "metadata": {},
   "source": [
    "###  1. \\s  --- \\d\n",
    "* \\s => boşluk\n",
    "* \\d => sayılar"
   ]
  },
  {
   "cell_type": "code",
   "execution_count": 152,
   "metadata": {},
   "outputs": [],
   "source": [
    "metin = \"Bugünkü-konumuz  düzenli ifadeler\""
   ]
  },
  {
   "cell_type": "code",
   "execution_count": 153,
   "metadata": {},
   "outputs": [],
   "source": [
    "ifade = re.search(\"\\s[a-z].+\",metin)"
   ]
  },
  {
   "cell_type": "code",
   "execution_count": 154,
   "metadata": {},
   "outputs": [
    {
     "name": "stdout",
     "output_type": "stream",
     "text": [
      " düzenli ifadeler\n"
     ]
    }
   ],
   "source": [
    "print(ifade.group())"
   ]
  },
  {
   "cell_type": "code",
   "execution_count": 158,
   "metadata": {},
   "outputs": [
    {
     "name": "stdout",
     "output_type": "stream",
     "text": [
      "Bug\n"
     ]
    }
   ],
   "source": [
    "ifade = re.search(\"\\S[a-z]+\",metin)\n",
    "\n",
    "print(ifade.group())"
   ]
  },
  {
   "cell_type": "markdown",
   "metadata": {},
   "source": [
    "### 2. \\w\n",
    "* Metindeki harf, sayı ve alt çizgi için kullanılır"
   ]
  },
  {
   "cell_type": "code",
   "execution_count": 177,
   "metadata": {},
   "outputs": [],
   "source": [
    "metin = \"Bugün 19_* 2021\""
   ]
  },
  {
   "cell_type": "code",
   "execution_count": 178,
   "metadata": {},
   "outputs": [
    {
     "name": "stdout",
     "output_type": "stream",
     "text": [
      "['Bugün', '19_', '2021']\n"
     ]
    }
   ],
   "source": [
    "print(re.findall(\"\\w+\",metin))"
   ]
  },
  {
   "cell_type": "code",
   "execution_count": 179,
   "metadata": {},
   "outputs": [
    {
     "name": "stdout",
     "output_type": "stream",
     "text": [
      "[' ', '*', ' ']\n"
     ]
    }
   ],
   "source": [
    "print(re.findall(\"\\W\",metin))"
   ]
  },
  {
   "cell_type": "markdown",
   "metadata": {},
   "source": [
    "### 3. \\S --- \\D --- \\W \n",
    "* Az önceki işlemlerin tersini yaparlar. Sırayla;\n",
    "* boşluk olmayan,\n",
    "* sayı olmayan,\n",
    "* harf, sayı veya alt çizgi olmayan karakterleri yakalar"
   ]
  },
  {
   "cell_type": "code",
   "execution_count": 214,
   "metadata": {},
   "outputs": [],
   "source": [
    "# Boşluk girilmemiş ifadeyi yazdırmak isteyelim.\n",
    "metin = \"Bugün 15 mart yarın 6nisan\""
   ]
  },
  {
   "cell_type": "code",
   "execution_count": 215,
   "metadata": {},
   "outputs": [],
   "source": [
    "ifade = re.search(\"\\d+\\s\\w+\",metin)"
   ]
  },
  {
   "cell_type": "code",
   "execution_count": 216,
   "metadata": {},
   "outputs": [
    {
     "name": "stdout",
     "output_type": "stream",
     "text": [
      "15 mart\n"
     ]
    }
   ],
   "source": [
    "print(ifade.group())"
   ]
  },
  {
   "cell_type": "code",
   "execution_count": 224,
   "metadata": {},
   "outputs": [
    {
     "name": "stdout",
     "output_type": "stream",
     "text": [
      "Bugün\n"
     ]
    }
   ],
   "source": [
    "metin = \"Bugün15\"\n",
    "ifade = re.search(\"\\D+\",metin)\n",
    "\n",
    "print(ifade.group())"
   ]
  },
  {
   "cell_type": "markdown",
   "metadata": {},
   "source": [
    "## compile  ile re.I ve re.S kullanımı\n",
    "* düzenli ifadeler karakter dizilerine göre biraz daha yavaş çalışırlar. * Ancak düzenli ifadelerin işleyişini hızlandırmanın da bazı yolları vardır. Bu yollardan biri de compile() metodunu kullanmaktır."
   ]
  },
  {
   "cell_type": "code",
   "execution_count": 85,
   "metadata": {},
   "outputs": [],
   "source": [
    "metin = \"Bugün 5 nisan yarın 6 Nisan\""
   ]
  },
  {
   "cell_type": "code",
   "execution_count": 86,
   "metadata": {},
   "outputs": [],
   "source": [
    "# compile bir öncekilere göre daha hızlı çalışır.\n",
    "# re.I => Büyük/küçük tüm ifadelerin gelmesini sağlar\n",
    "derle = re.compile(\"\\d\\s\\w+\", re.I)"
   ]
  },
  {
   "cell_type": "code",
   "execution_count": 87,
   "metadata": {},
   "outputs": [],
   "source": [
    "tarihler = derle.findall(metin)"
   ]
  },
  {
   "cell_type": "code",
   "execution_count": 88,
   "metadata": {},
   "outputs": [
    {
     "name": "stdout",
     "output_type": "stream",
     "text": [
      "['5 nisan', '6 Nisan']\n"
     ]
    }
   ],
   "source": [
    "print(tarihler)"
   ]
  },
  {
   "cell_type": "markdown",
   "metadata": {},
   "source": [
    "---"
   ]
  },
  {
   "cell_type": "code",
   "execution_count": 122,
   "metadata": {},
   "outputs": [
    {
     "name": "stdout",
     "output_type": "stream",
     "text": [
      "PythonPython \n",
      "Python Ben Python,\n",
      "Monty Python\n"
     ]
    }
   ],
   "source": [
    "# re.S => nokta meta karakteri sonraki satırda aramada kullanılamıyor. Bunu sağlamak için böyle bir metot var.\n",
    "a = \"PythonPython \\nPython Ben Python,\\nMonty Python ifadesi \\n\\C#\"\n",
    "derle = re.compile(\".*Python\", re.S)\n",
    "nesne = derle.search(a)\n",
    "if nesne:\n",
    "    print(nesne.group())"
   ]
  },
  {
   "cell_type": "markdown",
   "metadata": {},
   "source": [
    "## sub() metodu + subn() methodu\n",
    "* replace yerine kullanılır. Daha karmaşık metinlerde tercih edilir.\n",
    "* subn ile kaç değişiklik yapıldığı da gözükür"
   ]
  },
  {
   "cell_type": "code",
   "execution_count": 89,
   "metadata": {},
   "outputs": [],
   "source": [
    "metin = \"Bugün 5 nisan yarın 6 Nisan\""
   ]
  },
  {
   "cell_type": "code",
   "execution_count": 90,
   "metadata": {},
   "outputs": [],
   "source": [
    "derle = re.compile(\"nisan\",re.I)"
   ]
  },
  {
   "cell_type": "code",
   "execution_count": 92,
   "metadata": {},
   "outputs": [
    {
     "name": "stdout",
     "output_type": "stream",
     "text": [
      "('Bugün 5 ekim yarın 6 ekim', 2)\n"
     ]
    }
   ],
   "source": [
    "print(derle.subn(\"ekim\",metin))"
   ]
  },
  {
   "cell_type": "markdown",
   "metadata": {},
   "source": [
    "---"
   ]
  },
  {
   "cell_type": "markdown",
   "metadata": {},
   "source": [
    "---"
   ]
  },
  {
   "cell_type": "markdown",
   "metadata": {},
   "source": [
    "## Örnek Uygulama"
   ]
  },
  {
   "cell_type": "code",
   "execution_count": 80,
   "metadata": {},
   "outputs": [],
   "source": [
    "import re\n",
    "from urllib.request import urlopen\n",
    "\n",
    "url = \"https://web.archive.org/web/20121025012131/http://www.istihza.com/py2/icindekiler_python.html\"\n",
    "f = urlopen(url)"
   ]
  },
  {
   "cell_type": "code",
   "execution_count": 81,
   "metadata": {},
   "outputs": [
    {
     "name": "stdout",
     "output_type": "stream",
     "text": [
      "('https://web.archive.org/web/20121025012131/http://www.istihza.com/py3/icindekiler_python.html', 'şuradaki')\n",
      "('temel_bilgiler.html', '1. Temel Bilgiler')\n",
      "('pythona-giris.html', '2. Python&#8217;a Giriş')\n",
      "('python-programlarini-kaydetmek.html', '3. Python Programlarını Kaydetmek')\n",
      "('kullaniciyla_iletisim.html', '4. Kullanıcıyla İletişim: Veri Alış-Verişi')\n",
      "('kosul.html', '5. Python&#8217;da Koşula Bağlı Durumlar')\n",
      "('ayrintilar.html', '6. Bazı Önemli Ayrıntılar')\n",
      "('dongu.html', '7. Python&#8217;da Döngüler')\n",
      "('hata.html', '8. Hata Yakalama')\n",
      "('liste.html', '9. Listeler')\n",
      "('demet.html', '10. Demetler')\n",
      "('sozluk.html', '11. Sözlükler')\n",
      "('kume.html', '12. Kümeler')\n",
      "('fonksiyon.html', '13. Fonksiyonlar')\n",
      "('modul.html', '14. Modüller')\n",
      "('dosya.html', '15. Dosya İşlemleri')\n",
      "('kardiz.html', '16. Karakter Dizileri')\n",
      "('modifier.html', '17. Biçim Düzenleyiciler')\n",
      "('unicode.html', '18. ascii, unicode ve Python')\n",
      "('regex.html', '19. Düzenli İfadeler (Regular Expressions)')\n",
      "('nesne.html', '20. Nesne Tabanlı Programlama – OOP (NTP)')\n",
      "('sqlite.html', '21. Sqlite ile Veritabanı Programlama')\n",
      "('sys.html', 'sys Modülü')\n",
      "('math.html', 'math Modülü')\n",
      "('datetime.html', 'datetime Modülü')\n",
      "('time.html', 'time Modülü')\n",
      "('lenascii.html', 'len() Fonksiyonu ve ascii&#8217;nin Laneti')\n",
      "('id_is.html', 'Python&#8217;da id() Fonksiyonu, is İşleci ve Önbellekleme Mekanizması')\n",
      "('windows-path.html', 'Windows&#8217;ta Python&#8217;ı YOL&#8217;a (PATH) Eklemek')\n",
      "('pep3000.html', 'PEP 3000')\n",
      "('openoffice.html', 'Python ve OpenOffice')\n",
      "('paketler.html', 'Python&#8217;da Paket Kurulumu - Kullanımı')\n",
      "('restructuredtext.html', 'reStructuredText')\n",
      "('sphinxdoc.html', 'Sphinx')\n"
     ]
    }
   ],
   "source": [
    "çıktı = \"Başlık: {};\\nBağlantı: {}\\n\"\n",
    "regex = 'href=\"(.+html)\">(.+)</a>'\n",
    "\n",
    "for i in f:\n",
    "     nesne = re.search(regex, str(i, 'utf-8'))\n",
    "     if nesne:\n",
    "             print(nesne.groups())"
   ]
  },
  {
   "cell_type": "markdown",
   "metadata": {},
   "source": [
    "## KAYNAKÇA"
   ]
  },
  {
   "cell_type": "markdown",
   "metadata": {},
   "source": [
    "* https://www.sinanerdinc.com/python-re-modulu\n",
    "* https://python-istihza.yazbel.com/standart_moduller/regex.html\n",
    "* https://www.youtube.com/watch?v=sSD_xCade-g&t=320s\n",
    "* https://alhydrtprk.medium.com/python-re-regular-expression-mod%C3%BCl%C3%BC-6dec531a8434\n",
    "* https://erdincuzun.com/ileri-python/regular-expressions-duzenli-ifadeler/\n",
    "* https://www.tutorialspoint.com/python/python_reg_expressions.htm\n",
    "* https://www.w3schools.com/python/python_regex.asp\n",
    "* https://docs.python.org/3/howto/regex.html"
   ]
  }
 ],
 "metadata": {
  "kernelspec": {
   "display_name": "Python 3",
   "language": "python",
   "name": "python3"
  },
  "language_info": {
   "codemirror_mode": {
    "name": "ipython",
    "version": 3
   },
   "file_extension": ".py",
   "mimetype": "text/x-python",
   "name": "python",
   "nbconvert_exporter": "python",
   "pygments_lexer": "ipython3",
   "version": "3.8.5"
  }
 },
 "nbformat": 4,
 "nbformat_minor": 4
}

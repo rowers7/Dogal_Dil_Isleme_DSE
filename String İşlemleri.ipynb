{
 "cells": [
  {
   "cell_type": "markdown",
   "metadata": {},
   "source": [
    "# Doğal Dil İşleme Öncesi String İşlemleri\n",
    "* Python'da büyük-küçük harf duyarlılığı vardır. => Kısaca \"D\" ve \"d\" iki farklı şeydir Python için."
   ]
  },
  {
   "cell_type": "markdown",
   "metadata": {},
   "source": [
    "## 1.İndexler\n",
    "* Python'da index saymaya 0 dan başlar\n",
    "* Python programlama dilinde string bir veri türünün indexlerine hem ileri doğru hem de geriye doğru erişebilirsiniz. "
   ]
  },
  {
   "cell_type": "code",
   "execution_count": 28,
   "metadata": {},
   "outputs": [],
   "source": [
    "ifade = \"Doğal Dil İşleme konusunu çalışıyorum\""
   ]
  },
  {
   "cell_type": "code",
   "execution_count": 29,
   "metadata": {},
   "outputs": [
    {
     "name": "stdout",
     "output_type": "stream",
     "text": [
      "D\n"
     ]
    }
   ],
   "source": [
    "#1 verdiğimiz ifadedeki ilk karakteri ekrana yazdırdı\n",
    "print(ifade[0])"
   ]
  },
  {
   "cell_type": "code",
   "execution_count": 30,
   "metadata": {},
   "outputs": [
    {
     "name": "stdout",
     "output_type": "stream",
     "text": [
      "m\n"
     ]
    }
   ],
   "source": [
    "#2 negatif değer verdiğimizde ise sondan o değeri çağırmaya başlıyor\n",
    "print(ifade[-1])"
   ]
  },
  {
   "cell_type": "code",
   "execution_count": 31,
   "metadata": {},
   "outputs": [
    {
     "name": "stdout",
     "output_type": "stream",
     "text": [
      "Dil İşleme konusunu çalışıyorum\n"
     ]
    }
   ],
   "source": [
    "#3 6.index dahil olmak üzere geri kalanı ekrara bastı\n",
    "print(ifade[6:])"
   ]
  },
  {
   "cell_type": "markdown",
   "metadata": {},
   "source": [
    "---------------------"
   ]
  },
  {
   "cell_type": "markdown",
   "metadata": {},
   "source": [
    "## 2.Matematiksel İşlemler\n",
    "* Stringlerde matematiksel işlemler sık sık kullanılmaktadır."
   ]
  },
  {
   "cell_type": "code",
   "execution_count": 19,
   "metadata": {},
   "outputs": [
    {
     "name": "stdout",
     "output_type": "stream",
     "text": [
      "Doğal Dil İşleme\n"
     ]
    }
   ],
   "source": [
    "# Toplama işlemi veya çarpma işlemi ile string ifadeleri uç uca ekleyebilirsiniz\n",
    "x = \"Doğal\"\n",
    "y = \" Dil\"\n",
    "z = \" İşleme\"\n",
    "\n",
    "print(x + y + z)"
   ]
  },
  {
   "cell_type": "code",
   "execution_count": 24,
   "metadata": {},
   "outputs": [
    {
     "name": "stdout",
     "output_type": "stream",
     "text": [
      "Doğal Doğal Doğal Doğal Doğal \n"
     ]
    }
   ],
   "source": [
    "# kelimeler arasında boşluk olması için biraz önce olduğu gibi küçük bir boşluk bıraktık\n",
    "x = \"Doğal \"\n",
    "print(5 * x)"
   ]
  },
  {
   "cell_type": "markdown",
   "metadata": {},
   "source": [
    "----------"
   ]
  },
  {
   "cell_type": "markdown",
   "metadata": {},
   "source": [
    "## 3. Fonksiyonlar\n",
    "* En çok kullanılan birkaç fonksiyonu gördükten sonra, bizim hazırladığımız notebook ve kaynakçada bulunan sitelerden daha fazla pratik yapabilirsiniz."
   ]
  },
  {
   "cell_type": "markdown",
   "metadata": {},
   "source": [
    "### 1- count()\n",
    "* Uzun bir cümlede/metinde geçen bir kelimenin kaç kere geçtiğini öğrenmek istiyoruz.\n",
    "* count() metodu bize bu konuda yardımcı olmaktadır."
   ]
  },
  {
   "cell_type": "code",
   "execution_count": 46,
   "metadata": {},
   "outputs": [],
   "source": [
    "ifade= \"Doğal dil işleme alanında Türkçe dilindeki çalışmalar, İngilizce diline göre çok daha azdır.\""
   ]
  },
  {
   "cell_type": "code",
   "execution_count": 47,
   "metadata": {},
   "outputs": [
    {
     "name": "stdout",
     "output_type": "stream",
     "text": [
      "3\n"
     ]
    }
   ],
   "source": [
    "print(ifade.count(\"dil\"))"
   ]
  },
  {
   "cell_type": "markdown",
   "metadata": {},
   "source": [
    "### 2-replace()\n",
    "* String türünde ki bir verimizin içindeki kelimeyi,karakteri hatta daha fazlasını istediğimiz bir ifade ile değiştirmek için replace() fonksiyonunu kullanmaktayız."
   ]
  },
  {
   "cell_type": "code",
   "execution_count": 44,
   "metadata": {},
   "outputs": [],
   "source": [
    "ifade = \"mavi araba, mavi ev, mavi telefon\"\n",
    "yeni_ifade = ifade.replace(\"mavi\", \"kırmızı\")"
   ]
  },
  {
   "cell_type": "code",
   "execution_count": 45,
   "metadata": {},
   "outputs": [
    {
     "name": "stdout",
     "output_type": "stream",
     "text": [
      "kırmızı araba, kırmızı ev, kırmızı telefon\n"
     ]
    }
   ],
   "source": [
    "print(yeni_ifade)"
   ]
  },
  {
   "cell_type": "markdown",
   "metadata": {},
   "source": [
    "### 3- len()\n",
    "* verilen ifadenin, boşluklar ve özel karakterler dahil toplamda kaç karakter olduğunu hesaplar. Yani uzunluğunu hesaplar."
   ]
  },
  {
   "cell_type": "code",
   "execution_count": 48,
   "metadata": {},
   "outputs": [],
   "source": [
    "ifade = \"Son yılların popüler konusu Yapay Zeka’nın alt dallarından biri olan NLP, insanların kullandığı dillerin(Türkçe, İngilizce) bilgisayar dilleri tarafından (Python, C) anlaşılıp, analiz edilmesi ve anlamsız verilerden işe yarar bilgiler çıkarma işlemidir, sürecidir.\""
   ]
  },
  {
   "cell_type": "code",
   "execution_count": 49,
   "metadata": {},
   "outputs": [
    {
     "name": "stdout",
     "output_type": "stream",
     "text": [
      "264\n"
     ]
    }
   ],
   "source": [
    "print(len(ifade))"
   ]
  },
  {
   "cell_type": "markdown",
   "metadata": {},
   "source": [
    "### 4- split()\n",
    "* Split() fonksiyonu sayesinde, ifade içerisinde, parantez içinde verdiğimiz değer her geldiğinde, bir sonraki o değere kadar olan ifadeyi(virgülden virgüle), oluşturulan listeye yeni elemana olarak ekleme yapar."
   ]
  },
  {
   "cell_type": "code",
   "execution_count": 57,
   "metadata": {},
   "outputs": [
    {
     "name": "stdout",
     "output_type": "stream",
     "text": [
      "['Doğal dil işleme', ' bir çok alanda kullanılan', ' multi-displiner bir daldır.']\n"
     ]
    }
   ],
   "source": [
    "ifade = \"Doğal dil işleme, bir çok alanda kullanılan, multi-displiner bir daldır.\"\n",
    "\n",
    "print(ifade.split(\",\"))"
   ]
  },
  {
   "cell_type": "markdown",
   "metadata": {},
   "source": [
    "### 5- strip()\n",
    "* Sağdan ve/veya soldan istenmeyen karakterleri kırpmak için kullanılır. Özellikle çok büyük miktarlarda boşluklardan kurtulmak için can kurtarıcı olabilir."
   ]
  },
  {
   "cell_type": "code",
   "execution_count": 60,
   "metadata": {},
   "outputs": [
    {
     "name": "stdout",
     "output_type": "stream",
     "text": [
      "Doğal Dil\n"
     ]
    }
   ],
   "source": [
    "ifade = \"        Doğal Dil             \"\n",
    "print(ifade.strip())"
   ]
  },
  {
   "cell_type": "code",
   "execution_count": 62,
   "metadata": {},
   "outputs": [
    {
     "name": "stdout",
     "output_type": "stream",
     "text": [
      "Araba\n"
     ]
    }
   ],
   "source": [
    "# boşluklar dışında herhangi bir karakter içinde bu kullanılabilir.\n",
    "ifade2 = \"*****Araba*****\"\n",
    "print(ifade2.strip(\"*\"))"
   ]
  },
  {
   "cell_type": "markdown",
   "metadata": {},
   "source": [
    "### 6- join()\n",
    "* Bölünmüş ifadelerin birleştirilmesi için kullanılır"
   ]
  },
  {
   "cell_type": "code",
   "execution_count": 64,
   "metadata": {},
   "outputs": [],
   "source": [
    "bölünmüş_ifade = [\"Doğal\", \"Dil\", \"İşleme\"]"
   ]
  },
  {
   "cell_type": "code",
   "execution_count": 65,
   "metadata": {},
   "outputs": [
    {
     "data": {
      "text/plain": [
       "'Doğal Dil İşleme'"
      ]
     },
     "execution_count": 65,
     "metadata": {},
     "output_type": "execute_result"
    }
   ],
   "source": [
    "# ilk işlemde, kelimeler arasında ne olması gerektiğine karar veriyoruz\n",
    "joiner = \" \"\n",
    "print(joiner.join(bölünmüş_ifade))"
   ]
  },
  {
   "cell_type": "markdown",
   "metadata": {},
   "source": [
    "### 7-find()\n",
    "* Verilen ifade içerisinde, girilen değerin kaçıncı indexten itibaren başladığı bilgisini verir."
   ]
  },
  {
   "cell_type": "code",
   "execution_count": 66,
   "metadata": {},
   "outputs": [
    {
     "name": "stdout",
     "output_type": "stream",
     "text": [
      "30\n"
     ]
    }
   ],
   "source": [
    "ifade = \"Merhaba, serinin bu yazısında string ifadelerde işlemleri inceleyeceğiz.\"\n",
    "\n",
    "print(ifade.find(\"string\"))"
   ]
  },
  {
   "cell_type": "markdown",
   "metadata": {},
   "source": [
    "### 8- lower() - upper()\n",
    "* verilen ifadenin içerisindeki harflerin tamamını küçük veya büyük harfe çevirmeye yarar."
   ]
  },
  {
   "cell_type": "code",
   "execution_count": 68,
   "metadata": {},
   "outputs": [
    {
     "name": "stdout",
     "output_type": "stream",
     "text": [
      "selam dünya\n"
     ]
    }
   ],
   "source": [
    "ifade = \"Selam Dünya\"\n",
    "# harfleri küçültüyoruz\n",
    "print(ifade.lower())"
   ]
  },
  {
   "cell_type": "code",
   "execution_count": 69,
   "metadata": {},
   "outputs": [
    {
     "name": "stdout",
     "output_type": "stream",
     "text": [
      "SELAM DÜNYA\n"
     ]
    }
   ],
   "source": [
    "# harfleri büyütüyoruz\n",
    "print(ifade.upper())"
   ]
  },
  {
   "cell_type": "markdown",
   "metadata": {},
   "source": [
    "### 9- capitalize() -title()\n",
    "* capitalize() fonksiyonu, cümlemizin büyük-küçük harf durumu nasıl olduğu önemli olmaksızın, sadece cümlemizin ilk harfini büyük yapar ve geri kalan tüm harfleri küçültür.\n",
    "- title() ise ifadedeki tüm baş harfleri büyük yapar"
   ]
  },
  {
   "cell_type": "code",
   "execution_count": 76,
   "metadata": {},
   "outputs": [],
   "source": [
    "ifade = \"stringler nlp için önemlidir.\""
   ]
  },
  {
   "cell_type": "code",
   "execution_count": 75,
   "metadata": {},
   "outputs": [
    {
     "name": "stdout",
     "output_type": "stream",
     "text": [
      "Stringler nlp için önemlidir.\n"
     ]
    }
   ],
   "source": [
    "print(ifade.capitalize())"
   ]
  },
  {
   "cell_type": "code",
   "execution_count": 74,
   "metadata": {},
   "outputs": [
    {
     "name": "stdout",
     "output_type": "stream",
     "text": [
      "Stringler Nlp Için Önemlidir.\n"
     ]
    }
   ],
   "source": [
    "print(ifade.title())"
   ]
  },
  {
   "cell_type": "markdown",
   "metadata": {},
   "source": [
    "### 10- swapcase()\n",
    "* Pythonda string türünde bir ifadenin tüm harflerini büyükse küçük, küçükse büyük harfe çevirebilirsiniz ve bu çıktıyı kopyalayabilirsiniz. Bu işlemi yapmanızı sağlayacak fonksiyon swapcase()’dir."
   ]
  },
  {
   "cell_type": "code",
   "execution_count": 79,
   "metadata": {},
   "outputs": [
    {
     "name": "stdout",
     "output_type": "stream",
     "text": [
      "dOĞAL dIL i̇ŞLEME ÜZERINE UZUN BIR SERI OLACAK. hERKES IÇIN FAYDALI OLMASINI UMUT EDIYORUZ.\n"
     ]
    }
   ],
   "source": [
    "ifade = \"Doğal Dil İşleme üzerine uzun bir seri olacak. Herkes için faydalı olmasını umut ediyoruz.\"\n",
    "print(ifade.swapcase())"
   ]
  },
  {
   "cell_type": "markdown",
   "metadata": {},
   "source": [
    "### 11- startswith() - endswith()\n",
    "* startswith fonksiyonu string ifademizin hangi değer ile başladığını bize true veya false olarak döner.\n",
    "* endswith ise string ifademizin hangi değer ile bittiğini; bize true veya false olarak döner."
   ]
  },
  {
   "cell_type": "code",
   "execution_count": 104,
   "metadata": {},
   "outputs": [
    {
     "name": "stdout",
     "output_type": "stream",
     "text": [
      "True\n"
     ]
    }
   ],
   "source": [
    "ifade = \"Doğal Dil İşleme üzerine uzun bir seri olacak. Herkes için faydalı olmasını umut ediyoruz.\"\n",
    "print(ifade.startswith(\"Doğal\"))"
   ]
  },
  {
   "cell_type": "code",
   "execution_count": 106,
   "metadata": {},
   "outputs": [
    {
     "name": "stdout",
     "output_type": "stream",
     "text": [
      "True\n"
     ]
    }
   ],
   "source": [
    "ifade = \"Doğal Dil İşleme üzerine uzun bir seri olacak. Herkes için faydalı olmasını umut ediyoruz.\"\n",
    "print(ifade.endswith(\"uz.\"))"
   ]
  },
  {
   "cell_type": "markdown",
   "metadata": {},
   "source": [
    "### 12- isalpha() - isnumeric()\n",
    "* isalpha fonksiyonu eğer ifademiz string ise True döndürür\n",
    "* isnumeric fonksiyonu eğer ifademiz numeric ise True döner"
   ]
  },
  {
   "cell_type": "code",
   "execution_count": 101,
   "metadata": {},
   "outputs": [
    {
     "name": "stdout",
     "output_type": "stream",
     "text": [
      "True\n"
     ]
    }
   ],
   "source": [
    "ifade= \"Dil\"\n",
    "print(ifade.isalpha())"
   ]
  },
  {
   "cell_type": "code",
   "execution_count": 103,
   "metadata": {},
   "outputs": [
    {
     "name": "stdout",
     "output_type": "stream",
     "text": [
      "True\n"
     ]
    }
   ],
   "source": [
    "ifade= \"222\"\n",
    "print(ifade.isnumeric())"
   ]
  },
  {
   "cell_type": "markdown",
   "metadata": {},
   "source": [
    "### 13- enumarate()\n",
    "* Liste şeklinde verilen ifadeleri index:0 dan başlayarak, gruplar halinde tuple'lara ayırır."
   ]
  },
  {
   "cell_type": "code",
   "execution_count": 113,
   "metadata": {},
   "outputs": [
    {
     "name": "stdout",
     "output_type": "stream",
     "text": [
      "(0, 'Doğal') (1, 'Dil') (2, 'İşleme')\n"
     ]
    }
   ],
   "source": [
    "ifadeler =  [\"Doğal\",\"Dil\",\"İşleme\"]\n",
    "print(*enumerate(ifadeler))"
   ]
  },
  {
   "cell_type": "markdown",
   "metadata": {},
   "source": [
    "### 14- contains()"
   ]
  },
  {
   "cell_type": "code",
   "execution_count": null,
   "metadata": {},
   "outputs": [],
   "source": []
  }
 ],
 "metadata": {
  "kernelspec": {
   "display_name": "Python 3",
   "language": "python",
   "name": "python3"
  },
  "language_info": {
   "codemirror_mode": {
    "name": "ipython",
    "version": 3
   },
   "file_extension": ".py",
   "mimetype": "text/x-python",
   "name": "python",
   "nbconvert_exporter": "python",
   "pygments_lexer": "ipython3",
   "version": "3.9.1"
  }
 },
 "nbformat": 4,
 "nbformat_minor": 4
}
